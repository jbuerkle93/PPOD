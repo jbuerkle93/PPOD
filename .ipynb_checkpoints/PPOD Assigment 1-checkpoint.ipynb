{
 "cells": [
  {
   "cell_type": "code",
   "execution_count": 1,
   "id": "a300271d-4fce-4475-b20f-1c5e600cc37f",
   "metadata": {},
   "outputs": [
    {
     "data": {
      "text/plain": [
       "'1.4.4'"
      ]
     },
     "execution_count": 1,
     "metadata": {},
     "output_type": "execute_result"
    }
   ],
   "source": [
    "import pandas\n",
    "pandas.__version__"
   ]
  },
  {
   "cell_type": "code",
   "execution_count": 6,
   "id": "b99362f1-e1cb-447a-b3da-c77b5e07a3ff",
   "metadata": {},
   "outputs": [],
   "source": [
    "import pandas as pd\n"
   ]
  },
  {
   "cell_type": "code",
   "execution_count": 8,
   "id": "4f897645-1203-40d1-9b3c-50cd5cdf671e",
   "metadata": {},
   "outputs": [
    {
     "data": {
      "text/plain": [
       "'C:\\\\Users\\\\jbuer'"
      ]
     },
     "execution_count": 8,
     "metadata": {},
     "output_type": "execute_result"
    }
   ],
   "source": [
    "import os\n",
    "os.path.abspath(\"\")"
   ]
  },
  {
   "cell_type": "code",
   "execution_count": 9,
   "id": "26d911ee-a989-45db-99a1-92e48152b8a2",
   "metadata": {},
   "outputs": [],
   "source": [
    "df = pd.read_csv('Student Mental Health.csv')"
   ]
  },
  {
   "cell_type": "code",
   "execution_count": 10,
   "id": "3d5d921c-b557-4526-8460-d0c7c3172a1a",
   "metadata": {},
   "outputs": [
    {
     "data": {
      "text/html": [
       "<div>\n",
       "<style scoped>\n",
       "    .dataframe tbody tr th:only-of-type {\n",
       "        vertical-align: middle;\n",
       "    }\n",
       "\n",
       "    .dataframe tbody tr th {\n",
       "        vertical-align: top;\n",
       "    }\n",
       "\n",
       "    .dataframe thead th {\n",
       "        text-align: right;\n",
       "    }\n",
       "</style>\n",
       "<table border=\"1\" class=\"dataframe\">\n",
       "  <thead>\n",
       "    <tr style=\"text-align: right;\">\n",
       "      <th></th>\n",
       "      <th>Timestamp</th>\n",
       "      <th>Choose your gender</th>\n",
       "      <th>Age</th>\n",
       "      <th>What is your course?</th>\n",
       "      <th>Your current year of Study</th>\n",
       "      <th>What is your CGPA?</th>\n",
       "      <th>Marital status</th>\n",
       "      <th>Do you have Depression?</th>\n",
       "      <th>Do you have Anxiety?</th>\n",
       "      <th>Do you have Panic attack?</th>\n",
       "      <th>Did you seek any specialist for a treatment?</th>\n",
       "    </tr>\n",
       "  </thead>\n",
       "  <tbody>\n",
       "    <tr>\n",
       "      <th>0</th>\n",
       "      <td>8/7/2020 12:02</td>\n",
       "      <td>Female</td>\n",
       "      <td>18.0</td>\n",
       "      <td>Engineering</td>\n",
       "      <td>year 1</td>\n",
       "      <td>3.00 - 3.49</td>\n",
       "      <td>No</td>\n",
       "      <td>Yes</td>\n",
       "      <td>No</td>\n",
       "      <td>Yes</td>\n",
       "      <td>No</td>\n",
       "    </tr>\n",
       "    <tr>\n",
       "      <th>1</th>\n",
       "      <td>8/7/2020 12:04</td>\n",
       "      <td>Male</td>\n",
       "      <td>21.0</td>\n",
       "      <td>Islamic education</td>\n",
       "      <td>year 2</td>\n",
       "      <td>3.00 - 3.49</td>\n",
       "      <td>No</td>\n",
       "      <td>No</td>\n",
       "      <td>Yes</td>\n",
       "      <td>No</td>\n",
       "      <td>No</td>\n",
       "    </tr>\n",
       "    <tr>\n",
       "      <th>2</th>\n",
       "      <td>8/7/2020 12:05</td>\n",
       "      <td>Male</td>\n",
       "      <td>19.0</td>\n",
       "      <td>BIT</td>\n",
       "      <td>Year 1</td>\n",
       "      <td>3.00 - 3.49</td>\n",
       "      <td>No</td>\n",
       "      <td>Yes</td>\n",
       "      <td>Yes</td>\n",
       "      <td>Yes</td>\n",
       "      <td>No</td>\n",
       "    </tr>\n",
       "    <tr>\n",
       "      <th>3</th>\n",
       "      <td>8/7/2020 12:06</td>\n",
       "      <td>Female</td>\n",
       "      <td>22.0</td>\n",
       "      <td>Laws</td>\n",
       "      <td>year 3</td>\n",
       "      <td>3.00 - 3.49</td>\n",
       "      <td>Yes</td>\n",
       "      <td>Yes</td>\n",
       "      <td>No</td>\n",
       "      <td>No</td>\n",
       "      <td>No</td>\n",
       "    </tr>\n",
       "    <tr>\n",
       "      <th>4</th>\n",
       "      <td>8/7/2020 12:13</td>\n",
       "      <td>Male</td>\n",
       "      <td>23.0</td>\n",
       "      <td>Mathemathics</td>\n",
       "      <td>year 4</td>\n",
       "      <td>3.00 - 3.49</td>\n",
       "      <td>No</td>\n",
       "      <td>No</td>\n",
       "      <td>No</td>\n",
       "      <td>No</td>\n",
       "      <td>No</td>\n",
       "    </tr>\n",
       "  </tbody>\n",
       "</table>\n",
       "</div>"
      ],
      "text/plain": [
       "        Timestamp Choose your gender   Age What is your course?  \\\n",
       "0  8/7/2020 12:02             Female  18.0          Engineering   \n",
       "1  8/7/2020 12:04               Male  21.0    Islamic education   \n",
       "2  8/7/2020 12:05               Male  19.0                  BIT   \n",
       "3  8/7/2020 12:06             Female  22.0                 Laws   \n",
       "4  8/7/2020 12:13               Male  23.0         Mathemathics   \n",
       "\n",
       "  Your current year of Study What is your CGPA? Marital status  \\\n",
       "0                     year 1        3.00 - 3.49             No   \n",
       "1                     year 2        3.00 - 3.49             No   \n",
       "2                     Year 1        3.00 - 3.49             No   \n",
       "3                     year 3        3.00 - 3.49            Yes   \n",
       "4                     year 4        3.00 - 3.49             No   \n",
       "\n",
       "  Do you have Depression? Do you have Anxiety? Do you have Panic attack?  \\\n",
       "0                     Yes                   No                       Yes   \n",
       "1                      No                  Yes                        No   \n",
       "2                     Yes                  Yes                       Yes   \n",
       "3                     Yes                   No                        No   \n",
       "4                      No                   No                        No   \n",
       "\n",
       "  Did you seek any specialist for a treatment?  \n",
       "0                                           No  \n",
       "1                                           No  \n",
       "2                                           No  \n",
       "3                                           No  \n",
       "4                                           No  "
      ]
     },
     "execution_count": 10,
     "metadata": {},
     "output_type": "execute_result"
    }
   ],
   "source": [
    "df.head()"
   ]
  },
  {
   "cell_type": "code",
   "execution_count": null,
   "id": "e22fd5d5-855c-4a15-8170-c98f65b5edee",
   "metadata": {},
   "outputs": [],
   "source": [
    "# 3.1 Pseudonymisation – 10 marks\n",
    "# As a frst task, let’s consider how to pseudonymise data. Your goal in this task would\n",
    "# be to (1.) Study your dataset to determine which attributes qualify as explicit personally\n",
    "# 1identifable information. Explain why you decided on the attributes and show what method\n",
    "# was used to identify the attributes (or depending on the dataset, the attribute values); (2.)\n",
    "# Using a tool such anonymizedf which builds on pandas and faker generate pseudonymous\n",
    "# values to replace the original values.\n",
    "\n",
    "# I chose the following dataset: A STATISTICAL RESEARCH ON THE EFFECTS OF MENTAL HEALTH ON STUDENTS’ CGPA dataset\n",
    "# This Data set was collected by a survey conducted by Google forms from University student in order to examine their current academic situation and mental health.\n",
    "\n",
    "# 1. Attributes that classify as explicit personally identifiable information --> Combination of Age, Gender, the course and the year of study, could be used to \n",
    "\n"
   ]
  },
  {
   "cell_type": "code",
   "execution_count": null,
   "id": "13a1e7a2-0f5a-48d6-a34f-320b65f3c809",
   "metadata": {},
   "outputs": [],
   "source": []
  },
  {
   "cell_type": "code",
   "execution_count": null,
   "id": "97165019-c14e-4e10-89ed-5e736d574618",
   "metadata": {},
   "outputs": [],
   "source": [
    "3.2 Randomisation – 10 marks\n",
    "Randomisation, is helpful in supporting pseudonymisation by increasing the variability of the\n",
    "data. For example instead of replacing a name with another name, randomisation might use\n",
    "a randomly generated string of characters. \n",
    "\n",
    "Your goal in this task is to use the randomisation\n",
    "technique to generate random strings (that do not necessarily have a meaning) and then to\n",
    "modify the randomisation process to generate random but meaningful replacements. For\n",
    "example instead of replacing “Anne” with “xyzk” we might replace instead with “Amy”.\n",
    "Python’s built-in random library used with pandas might be helpful in generating random\n",
    "replacement values. \n",
    "\n",
    "https://sparkbyexamples.com/pandas/pandas-replace-by-examples/\n",
    "https://www.geeksforgeeks.org/python-generate-random-string-of-given-length/\n",
    "\n",
    "Finally, create a lookup table to keep track of your changes. This is\n",
    "useful approach to adopt, especially for being able to determine the wider impact of your\n",
    "changes on the data\n",
    "\n",
    "https://www.geeksforgeeks.org/create-a-watchdog-in-python-to-look-for-filesystem-changes/"
   ]
  },
  {
   "cell_type": "code",
   "execution_count": null,
   "id": "1891b01a-bca3-4231-8569-705001aae1ac",
   "metadata": {},
   "outputs": [],
   "source": []
  },
  {
   "cell_type": "code",
   "execution_count": null,
   "id": "ea5c4193-b821-4f0a-8c32-63d14d075700",
   "metadata": {},
   "outputs": [],
   "source": [
    "For certain attribute values, such as salary and/or age, combining data to create an aggregated view of the data, so that the data is represented in ranges instead of individually.\n",
    "For example, instead of Age = 35, 23, 20 we could use instead Age = [20 - 35]. Building\n",
    "on your results from the previous tasks, study the data to determine which attributes (and\n",
    "correspondingly attribute values) qualify for aggregation. \n",
    "\n",
    "Define a replacement algorithm\n",
    "to aggregate data, throughout your selected dataset. In Python, the pandas.cut() method\n",
    "might be helpful, but you can also achieve this by other techniques such as groupby()\n"
   ]
  },
  {
   "cell_type": "code",
   "execution_count": null,
   "id": "2f79c796-cf4f-499c-a7ca-74e832df3d5b",
   "metadata": {},
   "outputs": [],
   "source": []
  },
  {
   "cell_type": "code",
   "execution_count": null,
   "id": "3b98b20f-5078-49f8-94b6-5ca04724cac3",
   "metadata": {},
   "outputs": [],
   "source": [
    "One of the techniques used to anonymise data is to distort the data by adding noise to\n",
    "make it harder to re-identify individuals within the dataset. For example, a person’s age\n",
    "or postcode might be modifed slightly to make it harder to tell their age or exact location.\n",
    "Perturbation, typically works well with numerical and/or categorical values. Other well\n",
    "known mechanisms that employ noise additions include Diﬀerential Privacy.\n",
    "In this task, your goal is to design and code a function to add noise to one (1) or two\n",
    "(2) selected attributes of your choice. The amount of noise you add can be determined by\n",
    "metrics such as standard deviation, variance, and mean. Your goal is to preserve the original\n",
    "distribution of values while at the same time distorting the values to minimise disclosure\n",
    "risks.\n",
    "You must analyse your original data to establish what the distribution is, and the repeat\n",
    "the process once you have applied the noise addition function to the data."
   ]
  }
 ],
 "metadata": {
  "kernelspec": {
   "display_name": "Python 3 (ipykernel)",
   "language": "python",
   "name": "python3"
  },
  "language_info": {
   "codemirror_mode": {
    "name": "ipython",
    "version": 3
   },
   "file_extension": ".py",
   "mimetype": "text/x-python",
   "name": "python",
   "nbconvert_exporter": "python",
   "pygments_lexer": "ipython3",
   "version": "3.9.13"
  }
 },
 "nbformat": 4,
 "nbformat_minor": 5
}
